{
 "cells": [
  {
   "cell_type": "code",
   "execution_count": 132,
   "id": "09d2bedb",
   "metadata": {},
   "outputs": [],
   "source": [
    "# Importing Libaries etc\n",
    "from __future__ import print_function\n",
    "\n",
    "import keras\n",
    "from keras.datasets import mnist\n",
    "from keras.models import Sequential\n",
    "from keras.layers import Dense, Dropout\n",
    "from keras.optimizers import RMSprop\n",
    "\n",
    "import numpy as np\n",
    "import matplotlib.pyplot as plt\n",
    "%matplotlib inline"
   ]
  },
  {
   "cell_type": "code",
   "execution_count": 133,
   "id": "6aad5d1b",
   "metadata": {},
   "outputs": [],
   "source": [
    "# Loading the data and splitting\n",
    "(x_train, y_train), (x_test, y_test) = mnist.load_data()"
   ]
  },
  {
   "cell_type": "code",
   "execution_count": 134,
   "id": "63dd9254",
   "metadata": {},
   "outputs": [
    {
     "data": {
      "text/plain": [
       "(28, 28)"
      ]
     },
     "execution_count": 134,
     "metadata": {},
     "output_type": "execute_result"
    }
   ],
   "source": [
    "# Getting the shape\n",
    "x_train[0].shape"
   ]
  },
  {
   "cell_type": "code",
   "execution_count": 135,
   "id": "ec12415a",
   "metadata": {},
   "outputs": [
    {
     "data": {
      "text/plain": [
       "array([[  0,   0,   0,   0,   0,   0,   0,   0,   0,   0,   0,   0,   0,\n",
       "          0,   0,   0,   0,   0,   0,   0,   0,   0,   0,   0,   0,   0,\n",
       "          0,   0],\n",
       "       [  0,   0,   0,   0,   0,   0,   0,   0,   0,   0,   0,   0,   0,\n",
       "          0,   0,   0,   0,   0,   0,   0,   0,   0,   0,   0,   0,   0,\n",
       "          0,   0],\n",
       "       [  0,   0,   0,   0,   0,   0,   0,   0,   0,   0,   0,   0,   0,\n",
       "          0,   0,   0,   0,   0,   0,   0,   0,   0,   0,   0,   0,   0,\n",
       "          0,   0],\n",
       "       [  0,   0,   0,   0,   0,   0,   0,   0,   0,   0,   0,   0,   0,\n",
       "          0,   0,   0,   0,   0,   0,   0,   0,   0,   0,   0,   0,   0,\n",
       "          0,   0],\n",
       "       [  0,   0,   0,   0,   0,   0,   0,   0,   0,   0,   0,   0,   0,\n",
       "          0,   0,   0,   0,   0,   0,   0,   0,   0,   0,   0,   0,   0,\n",
       "          0,   0],\n",
       "       [  0,   0,   0,   0,   0,   0,   0,   0,   0,   0,   0,  87, 138,\n",
       "        170, 253, 201, 244, 212, 222, 138,  86,  22,   0,   0,   0,   0,\n",
       "          0,   0],\n",
       "       [  0,   0,   0,   0,   0,   0,   0,   0,   0,   0,  95, 253, 252,\n",
       "        252, 252, 252, 253, 252, 252, 252, 252, 245,  80,   0,   0,   0,\n",
       "          0,   0],\n",
       "       [  0,   0,   0,   0,   0,   0,   0,   0,   0,  68, 246, 205,  69,\n",
       "         69,  69,  69,  69,  69,  69,  69, 205, 253, 240,  50,   0,   0,\n",
       "          0,   0],\n",
       "       [  0,   0,   0,   0,   0,   0,   0,   0,   0, 187, 252, 218,  34,\n",
       "          0,   0,   0,   0,   0,   0,   0, 116, 253, 252,  69,   0,   0,\n",
       "          0,   0],\n",
       "       [  0,   0,   0,   0,   0,   0,   0,   0, 116, 248, 252, 253,  92,\n",
       "          0,   0,   0,   0,   0,   0,  95, 230, 253, 157,   6,   0,   0,\n",
       "          0,   0],\n",
       "       [  0,   0,   0,   0,   0,   0,   0,   0, 116, 249, 253, 189,  42,\n",
       "          0,   0,   0,   0,  36, 170, 253, 243, 158,   0,   0,   0,   0,\n",
       "          0,   0],\n",
       "       [  0,   0,   0,   0,   0,   0,   0,   0,   0, 133, 252, 245, 140,\n",
       "         34,   0,   0,  57, 219, 252, 235,  60,   0,   0,   0,   0,   0,\n",
       "          0,   0],\n",
       "       [  0,   0,   0,   0,   0,   0,   0,   0,   0,  25, 205, 253, 252,\n",
       "        234, 184, 184, 253, 240, 100,  44,   0,   0,   0,   0,   0,   0,\n",
       "          0,   0],\n",
       "       [  0,   0,   0,   0,   0,   0,   0,   0,   0,   0,  21, 161, 219,\n",
       "        252, 252, 252, 234,  37,   0,   0,   0,   0,   0,   0,   0,   0,\n",
       "          0,   0],\n",
       "       [  0,   0,   0,   0,   0,   0,   0,   0,   0,   0,   0,  11, 203,\n",
       "        252, 252, 252, 251, 135,   0,   0,   0,   0,   0,   0,   0,   0,\n",
       "          0,   0],\n",
       "       [  0,   0,   0,   0,   0,   0,   0,   0,   0,   9,  76, 255, 253,\n",
       "        205, 168, 220, 255, 253, 137,   5,   0,   0,   0,   0,   0,   0,\n",
       "          0,   0],\n",
       "       [  0,   0,   0,   0,   0,   0,   0,   0,   0, 114, 252, 249, 132,\n",
       "         25,   0,   0, 180, 252, 252,  45,   0,   0,   0,   0,   0,   0,\n",
       "          0,   0],\n",
       "       [  0,   0,   0,   0,   0,   0,   0,   0,  51, 220, 252, 199,   0,\n",
       "          0,   0,   0,  38, 186, 252, 154,   7,   0,   0,   0,   0,   0,\n",
       "          0,   0],\n",
       "       [  0,   0,   0,   0,   0,   0,   0,   0, 184, 252, 252,  21,   0,\n",
       "          0,   0,   0,   0,  67, 252, 252,  22,   0,   0,   0,   0,   0,\n",
       "          0,   0],\n",
       "       [  0,   0,   0,   0,   0,   0,   0,   0, 184, 252, 200,   0,   0,\n",
       "          0,   0,   0,   0,  47, 252, 252,  22,   0,   0,   0,   0,   0,\n",
       "          0,   0],\n",
       "       [  0,   0,   0,   0,   0,   0,   0,   0, 185, 253, 201,   0,   0,\n",
       "          0,   0,   0,   3, 118, 253, 245,  21,   0,   0,   0,   0,   0,\n",
       "          0,   0],\n",
       "       [  0,   0,   0,   0,   0,   0,   0,   0, 163, 252, 252,   0,   0,\n",
       "          0,   0,   0,  97, 252, 252,  87,   0,   0,   0,   0,   0,   0,\n",
       "          0,   0],\n",
       "       [  0,   0,   0,   0,   0,   0,   0,   0,  51, 240, 252, 123,  70,\n",
       "         70, 112, 184, 222, 252, 170,  13,   0,   0,   0,   0,   0,   0,\n",
       "          0,   0],\n",
       "       [  0,   0,   0,   0,   0,   0,   0,   0,   0, 165, 252, 253, 252,\n",
       "        252, 252, 252, 245, 139,  13,   0,   0,   0,   0,   0,   0,   0,\n",
       "          0,   0],\n",
       "       [  0,   0,   0,   0,   0,   0,   0,   0,   0,   9,  75, 253, 252,\n",
       "        221, 137, 137,  21,   0,   0,   0,   0,   0,   0,   0,   0,   0,\n",
       "          0,   0],\n",
       "       [  0,   0,   0,   0,   0,   0,   0,   0,   0,   0,   0,   0,   0,\n",
       "          0,   0,   0,   0,   0,   0,   0,   0,   0,   0,   0,   0,   0,\n",
       "          0,   0],\n",
       "       [  0,   0,   0,   0,   0,   0,   0,   0,   0,   0,   0,   0,   0,\n",
       "          0,   0,   0,   0,   0,   0,   0,   0,   0,   0,   0,   0,   0,\n",
       "          0,   0],\n",
       "       [  0,   0,   0,   0,   0,   0,   0,   0,   0,   0,   0,   0,   0,\n",
       "          0,   0,   0,   0,   0,   0,   0,   0,   0,   0,   0,   0,   0,\n",
       "          0,   0]], dtype=uint8)"
      ]
     },
     "execution_count": 135,
     "metadata": {},
     "output_type": "execute_result"
    }
   ],
   "source": [
    "# Outputting array\n",
    "x_train[333]"
   ]
  },
  {
   "cell_type": "code",
   "execution_count": 136,
   "id": "80338a63",
   "metadata": {},
   "outputs": [
    {
     "data": {
      "text/plain": [
       "8"
      ]
     },
     "execution_count": 136,
     "metadata": {},
     "output_type": "execute_result"
    }
   ],
   "source": [
    "y_train[333]"
   ]
  },
  {
   "cell_type": "code",
   "execution_count": 137,
   "id": "97476572",
   "metadata": {},
   "outputs": [
    {
     "data": {
      "text/plain": [
       "<matplotlib.image.AxesImage at 0x7f8e5a1c5050>"
      ]
     },
     "execution_count": 137,
     "metadata": {},
     "output_type": "execute_result"
    },
    {
     "data": {
      "image/png": "[encoded data removed]",
      "text/plain": [
       "<Figure size 432x288 with 1 Axes>"
      ]
     },
     "metadata": {
      "needs_background": "light"
     },
     "output_type": "display_data"
    }
   ],
   "source": [
    "plt.imshow(x_train[333], cmap='Greys_r')"
   ]
  },
  {
   "cell_type": "code",
   "execution_count": 138,
   "id": "25a83940",
   "metadata": {
    "scrolled": true
   },
   "outputs": [
    {
     "data": {
      "text/plain": [
       "<matplotlib.image.AxesImage at 0x7f8e310fecd0>"
      ]
     },
     "execution_count": 138,
     "metadata": {},
     "output_type": "execute_result"
    },
    {
     "data": {
      "image/png": "[encoded data removed]",
      "text/plain": [
       "<Figure size 432x288 with 1 Axes>"
      ]
     },
     "metadata": {
      "needs_background": "light"
     },
     "output_type": "display_data"
    }
   ],
   "source": [
    "plt.imshow(x_train[123], cmap='Greys_r')"
   ]
  },
  {
   "cell_type": "code",
   "execution_count": 139,
   "id": "90241f30",
   "metadata": {},
   "outputs": [
    {
     "data": {
      "text/plain": [
       "<matplotlib.image.AxesImage at 0x7f8e31aeba90>"
      ]
     },
     "execution_count": 139,
     "metadata": {},
     "output_type": "execute_result"
    },
    {
     "data": {
      "image/png": "[encoded data removed]",
      "text/plain": [
       "<Figure size 432x288 with 1 Axes>"
      ]
     },
     "metadata": {
      "needs_background": "light"
     },
     "output_type": "display_data"
    }
   ],
   "source": [
    "plt.imshow(x_train[576], cmap='Greys_r')"
   ]
  },
  {
   "cell_type": "code",
   "execution_count": 140,
   "id": "e41a7a7d",
   "metadata": {},
   "outputs": [
    {
     "name": "stdout",
     "output_type": "stream",
     "text": [
      "(60000, 28, 28) train samples\n",
      "(10000, 28, 28) test samples\n"
     ]
    }
   ],
   "source": [
    "print(x_train.shape, 'train samples')\n",
    "print(x_test.shape, 'test samples')"
   ]
  },
  {
   "cell_type": "code",
   "execution_count": 141,
   "id": "12945ab4",
   "metadata": {},
   "outputs": [],
   "source": [
    "# Getting images and coverting them to vectors\n",
    "x_train = x_train.reshape(len(x_train), 28*28)\n",
    "x_test = x_test.reshape(len(x_test), 28*28)\n",
    "\n",
    "# Keras with floats\n",
    "x_train = x_train.astype('float32')\n",
    "x_test = x_test.astype('float32')\n",
    "\n",
    "x_train /= 255\n",
    "x_test /= 255"
   ]
  },
  {
   "cell_type": "code",
   "execution_count": 142,
   "id": "1f0109f9",
   "metadata": {},
   "outputs": [
    {
     "data": {
      "text/plain": [
       "array([0., 0., 0., 0., 0., 0., 0., 0., 1., 0.], dtype=float32)"
      ]
     },
     "execution_count": 142,
     "metadata": {},
     "output_type": "execute_result"
    }
   ],
   "source": [
    "# vector to binary\n",
    "num_classes = 10 \n",
    "y_train = keras.utils.to_categorical(y_train, num_classes)\n",
    "y_test = keras.utils.to_categorical(y_test, num_classes)\n",
    "\n",
    "y_train[333]"
   ]
  },
  {
   "cell_type": "code",
   "execution_count": 143,
   "id": "840010d1",
   "metadata": {},
   "outputs": [],
   "source": [
    "# Model with two hidden layers. Each connected and have a dropout of .2\n",
    "model_1 = Sequential()\n",
    "model_1.add(Dense(64, activation='relu', input_shape=(784,)))\n",
    "model_1.add(Dropout(0.2))\n",
    "model_1.add(Dense(64, activation='relu'))\n",
    "model_1.add(Dense(64, activation='relu'))\n",
    "model_1.add(Dropout(0.2))\n",
    "model_1.add(Dense(10, activation='softmax'))"
   ]
  },
  {
   "cell_type": "code",
   "execution_count": 144,
   "id": "4e6b652c",
   "metadata": {},
   "outputs": [
    {
     "name": "stdout",
     "output_type": "stream",
     "text": [
      "Model: \"sequential_17\"\n",
      "_________________________________________________________________\n",
      "Layer (type)                 Output Shape              Param #   \n",
      "=================================================================\n",
      "dense_53 (Dense)             (None, 64)                50240     \n",
      "_________________________________________________________________\n",
      "dropout_31 (Dropout)         (None, 64)                0         \n",
      "_________________________________________________________________\n",
      "dense_54 (Dense)             (None, 64)                4160      \n",
      "_________________________________________________________________\n",
      "dense_55 (Dense)             (None, 64)                4160      \n",
      "_________________________________________________________________\n",
      "dropout_32 (Dropout)         (None, 64)                0         \n",
      "_________________________________________________________________\n",
      "dense_56 (Dense)             (None, 10)                650       \n",
      "=================================================================\n",
      "Total params: 59,210\n",
      "Trainable params: 59,210\n",
      "Non-trainable params: 0\n",
      "_________________________________________________________________\n"
     ]
    }
   ],
   "source": [
    "model_1.summary()"
   ]
  },
  {
   "cell_type": "code",
   "execution_count": 145,
   "id": "8c57e296",
   "metadata": {},
   "outputs": [],
   "source": [
    "learning_rate = .001\n",
    "model_1.compile(loss='categorical_crossentropy',\n",
    "                optimizer=RMSprop(lr=learning_rate),\n",
    "                metrics=['accuracy']) "
   ]
  },
  {
   "cell_type": "code",
   "execution_count": 146,
   "id": "be608b83",
   "metadata": {},
   "outputs": [
    {
     "name": "stdout",
     "output_type": "stream",
     "text": [
      "Train on 60000 samples, validate on 10000 samples\n",
      "Epoch 1/30\n",
      "60000/60000 [==============================] - 4s 75us/step - loss: 0.4925 - accuracy: 0.8500 - val_loss: 0.1958 - val_accuracy: 0.9419\n",
      "Epoch 2/30\n",
      "60000/60000 [==============================] - 4s 59us/step - loss: 0.2389 - accuracy: 0.9298 - val_loss: 0.1545 - val_accuracy: 0.9522\n",
      "Epoch 3/30\n",
      "60000/60000 [==============================] - 3s 58us/step - loss: 0.1899 - accuracy: 0.9441 - val_loss: 0.1301 - val_accuracy: 0.9619\n",
      "Epoch 4/30\n",
      "60000/60000 [==============================] - 3s 58us/step - loss: 0.1629 - accuracy: 0.9525 - val_loss: 0.1133 - val_accuracy: 0.9659\n",
      "Epoch 5/30\n",
      "60000/60000 [==============================] - 3s 58us/step - loss: 0.1469 - accuracy: 0.9572 - val_loss: 0.1125 - val_accuracy: 0.9667\n",
      "Epoch 6/30\n",
      "60000/60000 [==============================] - 3s 58us/step - loss: 0.1357 - accuracy: 0.9607 - val_loss: 0.1046 - val_accuracy: 0.9684\n",
      "Epoch 7/30\n",
      "60000/60000 [==============================] - 3s 58us/step - loss: 0.1231 - accuracy: 0.9635 - val_loss: 0.1001 - val_accuracy: 0.9711\n",
      "Epoch 8/30\n",
      "60000/60000 [==============================] - 4s 60us/step - loss: 0.1182 - accuracy: 0.9649 - val_loss: 0.1076 - val_accuracy: 0.9704\n",
      "Epoch 9/30\n",
      "60000/60000 [==============================] - 4s 59us/step - loss: 0.1100 - accuracy: 0.9674 - val_loss: 0.0956 - val_accuracy: 0.9725\n",
      "Epoch 10/30\n",
      "60000/60000 [==============================] - 4s 58us/step - loss: 0.1053 - accuracy: 0.9691 - val_loss: 0.0941 - val_accuracy: 0.9722\n",
      "Epoch 11/30\n",
      "60000/60000 [==============================] - 3s 58us/step - loss: 0.1013 - accuracy: 0.9698 - val_loss: 0.1033 - val_accuracy: 0.9715\n",
      "Epoch 12/30\n",
      "60000/60000 [==============================] - 3s 58us/step - loss: 0.0982 - accuracy: 0.9714 - val_loss: 0.0921 - val_accuracy: 0.9734\n",
      "Epoch 13/30\n",
      "60000/60000 [==============================] - 3s 58us/step - loss: 0.0962 - accuracy: 0.9718 - val_loss: 0.0956 - val_accuracy: 0.9739\n",
      "Epoch 14/30\n",
      "60000/60000 [==============================] - 4s 59us/step - loss: 0.0923 - accuracy: 0.9731 - val_loss: 0.0952 - val_accuracy: 0.9742\n",
      "Epoch 15/30\n",
      "60000/60000 [==============================] - 3s 58us/step - loss: 0.0901 - accuracy: 0.9733 - val_loss: 0.0975 - val_accuracy: 0.9736\n",
      "Epoch 16/30\n",
      "60000/60000 [==============================] - 4s 59us/step - loss: 0.0866 - accuracy: 0.9748 - val_loss: 0.0950 - val_accuracy: 0.9754\n",
      "Epoch 17/30\n",
      "60000/60000 [==============================] - 4s 59us/step - loss: 0.0836 - accuracy: 0.9751 - val_loss: 0.0963 - val_accuracy: 0.9744\n",
      "Epoch 18/30\n",
      "60000/60000 [==============================] - 4s 61us/step - loss: 0.0866 - accuracy: 0.9749 - val_loss: 0.0901 - val_accuracy: 0.9764\n",
      "Epoch 19/30\n",
      "60000/60000 [==============================] - 4s 60us/step - loss: 0.0832 - accuracy: 0.9751 - val_loss: 0.0965 - val_accuracy: 0.9750\n",
      "Epoch 20/30\n",
      "60000/60000 [==============================] - 3s 58us/step - loss: 0.0819 - accuracy: 0.9759 - val_loss: 0.0952 - val_accuracy: 0.9760\n",
      "Epoch 21/30\n",
      "60000/60000 [==============================] - 4s 58us/step - loss: 0.0799 - accuracy: 0.9774 - val_loss: 0.0955 - val_accuracy: 0.9754\n",
      "Epoch 22/30\n",
      "60000/60000 [==============================] - 4s 59us/step - loss: 0.0780 - accuracy: 0.9769 - val_loss: 0.0987 - val_accuracy: 0.9754\n",
      "Epoch 23/30\n",
      "60000/60000 [==============================] - 4s 59us/step - loss: 0.0779 - accuracy: 0.9775 - val_loss: 0.1030 - val_accuracy: 0.9765\n",
      "Epoch 24/30\n",
      "60000/60000 [==============================] - 4s 59us/step - loss: 0.0761 - accuracy: 0.9779 - val_loss: 0.1033 - val_accuracy: 0.9748\n",
      "Epoch 25/30\n",
      "60000/60000 [==============================] - 3s 58us/step - loss: 0.0776 - accuracy: 0.9778 - val_loss: 0.1061 - val_accuracy: 0.9759\n",
      "Epoch 26/30\n",
      "60000/60000 [==============================] - 4s 60us/step - loss: 0.0744 - accuracy: 0.9783 - val_loss: 0.0999 - val_accuracy: 0.9755\n",
      "Epoch 27/30\n",
      "60000/60000 [==============================] - 4s 59us/step - loss: 0.0754 - accuracy: 0.9789 - val_loss: 0.0999 - val_accuracy: 0.9756\n",
      "Epoch 28/30\n",
      "60000/60000 [==============================] - 4s 60us/step - loss: 0.0767 - accuracy: 0.9783 - val_loss: 0.0973 - val_accuracy: 0.9760\n",
      "Epoch 29/30\n",
      "60000/60000 [==============================] - 4s 59us/step - loss: 0.0752 - accuracy: 0.9788 - val_loss: 0.1034 - val_accuracy: 0.9748\n",
      "Epoch 30/30\n",
      "60000/60000 [==============================] - 4s 59us/step - loss: 0.0763 - accuracy: 0.9786 - val_loss: 0.0982 - val_accuracy: 0.9752\n"
     ]
    }
   ],
   "source": [
    "# Fitting the data\n",
    "batch_size = 128\n",
    "epochs = 30\n",
    "history = model_1.fit(x_train, y_train, batch_size=batch_size,\n",
    "                     epochs=epochs, verbose=1,\n",
    "                     validation_data=(x_test, y_test))"
   ]
  },
  {
   "cell_type": "code",
   "execution_count": 147,
   "id": "45b4e627",
   "metadata": {},
   "outputs": [
    {
     "name": "stdout",
     "output_type": "stream",
     "text": [
      "Test loss: 0.027123487261814686\n",
      "Test accuracy: 0.9927499890327454\n"
     ]
    }
   ],
   "source": [
    "score = model_1.evaluate(x_train, y_train, verbose=0)\n",
    "print('Test loss:', score[0])\n",
    "print('Test accuracy:', score[1])"
   ]
  },
  {
   "cell_type": "code",
   "execution_count": 148,
   "id": "c1b6e22b",
   "metadata": {},
   "outputs": [
    {
     "name": "stdout",
     "output_type": "stream",
     "text": [
      "Model: \"sequential_18\"\n",
      "_________________________________________________________________\n",
      "Layer (type)                 Output Shape              Param #   \n",
      "=================================================================\n",
      "dense_57 (Dense)             (None, 400)               314000    \n",
      "_________________________________________________________________\n",
      "dropout_33 (Dropout)         (None, 400)               0         \n",
      "_________________________________________________________________\n",
      "dense_58 (Dense)             (None, 300)               120300    \n",
      "_________________________________________________________________\n",
      "dropout_34 (Dropout)         (None, 300)               0         \n",
      "_________________________________________________________________\n",
      "dense_59 (Dense)             (None, 10)                3010      \n",
      "=================================================================\n",
      "Total params: 437,310\n",
      "Trainable params: 437,310\n",
      "Non-trainable params: 0\n",
      "_________________________________________________________________\n"
     ]
    }
   ],
   "source": [
    "# Model 2\n",
    "model_2 = Sequential()\n",
    "model_2.add(Dense(400, activation='relu', input_shape=(784,)))\n",
    "model_2.add(Dropout(0.4))\n",
    "model_2.add(Dense(300, activation='relu', input_shape=(784,)))\n",
    "model_2.add(Dropout(0.4))\n",
    "model_2.add(Dense(10, activation='softmax'))\n",
    "\n",
    "model_2.summary()"
   ]
  },
  {
   "cell_type": "code",
   "execution_count": 149,
   "id": "5e6a3260",
   "metadata": {},
   "outputs": [
    {
     "name": "stdout",
     "output_type": "stream",
     "text": [
      "Train on 60000 samples, validate on 10000 samples\n",
      "Epoch 1/30\n",
      "60000/60000 [==============================] - 8s 135us/step - loss: 0.3241 - accuracy: 0.9003 - val_loss: 0.1267 - val_accuracy: 0.9593\n",
      "Epoch 2/30\n",
      "60000/60000 [==============================] - 7s 121us/step - loss: 0.1483 - accuracy: 0.9552 - val_loss: 0.0970 - val_accuracy: 0.9719\n",
      "Epoch 3/30\n",
      "60000/60000 [==============================] - 7s 123us/step - loss: 0.1193 - accuracy: 0.9649 - val_loss: 0.0828 - val_accuracy: 0.9762\n",
      "Epoch 4/30\n",
      "60000/60000 [==============================] - 7s 122us/step - loss: 0.1010 - accuracy: 0.9711 - val_loss: 0.0846 - val_accuracy: 0.9757\n",
      "Epoch 5/30\n",
      "60000/60000 [==============================] - 7s 122us/step - loss: 0.0929 - accuracy: 0.9728 - val_loss: 0.0817 - val_accuracy: 0.9778\n",
      "Epoch 6/30\n",
      "60000/60000 [==============================] - 7s 124us/step - loss: 0.0836 - accuracy: 0.9770 - val_loss: 0.0774 - val_accuracy: 0.9796\n",
      "Epoch 7/30\n",
      "60000/60000 [==============================] - 7s 124us/step - loss: 0.0772 - accuracy: 0.9779 - val_loss: 0.0756 - val_accuracy: 0.9808\n",
      "Epoch 8/30\n",
      "60000/60000 [==============================] - 8s 126us/step - loss: 0.0746 - accuracy: 0.9793 - val_loss: 0.0789 - val_accuracy: 0.9810\n",
      "Epoch 9/30\n",
      "60000/60000 [==============================] - 7s 121us/step - loss: 0.0690 - accuracy: 0.9805 - val_loss: 0.0843 - val_accuracy: 0.9788\n",
      "Epoch 10/30\n",
      "60000/60000 [==============================] - 7s 120us/step - loss: 0.0673 - accuracy: 0.9816 - val_loss: 0.0796 - val_accuracy: 0.9817\n",
      "Epoch 11/30\n",
      "60000/60000 [==============================] - 7s 122us/step - loss: 0.0673 - accuracy: 0.9817 - val_loss: 0.0881 - val_accuracy: 0.9817\n",
      "Epoch 12/30\n",
      "60000/60000 [==============================] - 7s 120us/step - loss: 0.0578 - accuracy: 0.9845 - val_loss: 0.0873 - val_accuracy: 0.9821\n",
      "Epoch 13/30\n",
      "60000/60000 [==============================] - 7s 123us/step - loss: 0.0588 - accuracy: 0.9844 - val_loss: 0.0974 - val_accuracy: 0.9803\n",
      "Epoch 14/30\n",
      "60000/60000 [==============================] - 7s 121us/step - loss: 0.0560 - accuracy: 0.9851 - val_loss: 0.0923 - val_accuracy: 0.9828\n",
      "Epoch 15/30\n",
      "60000/60000 [==============================] - 7s 121us/step - loss: 0.0565 - accuracy: 0.9854 - val_loss: 0.0998 - val_accuracy: 0.9804\n",
      "Epoch 16/30\n",
      "60000/60000 [==============================] - 7s 124us/step - loss: 0.0561 - accuracy: 0.9852 - val_loss: 0.1032 - val_accuracy: 0.9815\n",
      "Epoch 17/30\n",
      "60000/60000 [==============================] - 7s 120us/step - loss: 0.0527 - accuracy: 0.9860 - val_loss: 0.1000 - val_accuracy: 0.9821\n",
      "Epoch 18/30\n",
      "60000/60000 [==============================] - 7s 121us/step - loss: 0.0548 - accuracy: 0.9856 - val_loss: 0.1034 - val_accuracy: 0.9817\n",
      "Epoch 19/30\n",
      "60000/60000 [==============================] - 7s 120us/step - loss: 0.0511 - accuracy: 0.9869 - val_loss: 0.1080 - val_accuracy: 0.9819\n",
      "Epoch 20/30\n",
      "60000/60000 [==============================] - 7s 120us/step - loss: 0.0493 - accuracy: 0.9873 - val_loss: 0.1180 - val_accuracy: 0.9823\n",
      "Epoch 21/30\n",
      "60000/60000 [==============================] - 7s 124us/step - loss: 0.0472 - accuracy: 0.9876 - val_loss: 0.1055 - val_accuracy: 0.9817\n",
      "Epoch 22/30\n",
      "60000/60000 [==============================] - 8s 131us/step - loss: 0.0466 - accuracy: 0.9876 - val_loss: 0.1126 - val_accuracy: 0.9834\n",
      "Epoch 23/30\n",
      "60000/60000 [==============================] - 7s 125us/step - loss: 0.0457 - accuracy: 0.9881 - val_loss: 0.1003 - val_accuracy: 0.9832\n",
      "Epoch 24/30\n",
      "60000/60000 [==============================] - 7s 124us/step - loss: 0.0506 - accuracy: 0.9879 - val_loss: 0.1110 - val_accuracy: 0.9817\n",
      "Epoch 25/30\n",
      "60000/60000 [==============================] - 8s 127us/step - loss: 0.0476 - accuracy: 0.9883 - val_loss: 0.1015 - val_accuracy: 0.9834\n",
      "Epoch 26/30\n",
      "60000/60000 [==============================] - 7s 123us/step - loss: 0.0457 - accuracy: 0.9890 - val_loss: 0.1115 - val_accuracy: 0.9830\n",
      "Epoch 27/30\n",
      "60000/60000 [==============================] - 7s 123us/step - loss: 0.0488 - accuracy: 0.9884 - val_loss: 0.1105 - val_accuracy: 0.9836\n",
      "Epoch 28/30\n",
      "60000/60000 [==============================] - 7s 123us/step - loss: 0.0469 - accuracy: 0.9886 - val_loss: 0.1180 - val_accuracy: 0.9829\n",
      "Epoch 29/30\n",
      "60000/60000 [==============================] - 7s 125us/step - loss: 0.0449 - accuracy: 0.9890 - val_loss: 0.1173 - val_accuracy: 0.9829\n",
      "Epoch 30/30\n",
      "60000/60000 [==============================] - 7s 123us/step - loss: 0.0431 - accuracy: 0.9895 - val_loss: 0.1147 - val_accuracy: 0.9842\n",
      "\n",
      "Test loos: 0.11472138528971706\n",
      "Test accuracy: 0.9842000007629395\n"
     ]
    }
   ],
   "source": [
    "batch_size = 128\n",
    "ephochs = 20\n",
    "learning_rate = .001\n",
    "\n",
    "model_2.compile(loss='categorical_crossentropy',\n",
    "                optimizer=RMSprop(lr=learning_rate),\n",
    "                metrics=['accuracy'])\n",
    "\n",
    "history = model_2.fit(x_train, y_train,\n",
    "                     batch_size=batch_size,\n",
    "                     epochs=epochs,\n",
    "                     verbose=1,\n",
    "                     validation_data=(x_test, y_test))\n",
    "\n",
    "score = model_2.evaluate(x_test, y_test, verbose=0)\n",
    "print('')\n",
    "print('Test loos:', score[0])\n",
    "print('Test accuracy:', score[1])"
   ]
  },
  {
   "cell_type": "code",
   "execution_count": 150,
   "id": "c9fb5d0a",
   "metadata": {},
   "outputs": [
    {
     "name": "stdout",
     "output_type": "stream",
     "text": [
      "Model: \"sequential_19\"\n",
      "_________________________________________________________________\n",
      "Layer (type)                 Output Shape              Param #   \n",
      "=================================================================\n",
      "dense_60 (Dense)             (None, 400)               314000    \n",
      "_________________________________________________________________\n",
      "dropout_35 (Dropout)         (None, 400)               0         \n",
      "_________________________________________________________________\n",
      "dense_61 (Dense)             (None, 300)               120300    \n",
      "_________________________________________________________________\n",
      "dropout_36 (Dropout)         (None, 300)               0         \n",
      "_________________________________________________________________\n",
      "dense_62 (Dense)             (None, 10)                3010      \n",
      "=================================================================\n",
      "Total params: 437,310\n",
      "Trainable params: 437,310\n",
      "Non-trainable params: 0\n",
      "_________________________________________________________________\n"
     ]
    }
   ],
   "source": [
    "#How they compare\n",
    "model_3 = Sequential()\n",
    "model_3.add(Dense(400, activation='relu', input_shape=(784,)))\n",
    "model_3.add(Dropout(0.1))\n",
    "model_3.add(Dense(300, activation='relu', input_shape=(784,)))\n",
    "model_3.add(Dropout(0.1))\n",
    "model_3.add(Dense(10, activation='softmax'))\n",
    "\n",
    "model_3.summary()"
   ]
  },
  {
   "cell_type": "code",
   "execution_count": 151,
   "id": "fc2a5dbf",
   "metadata": {},
   "outputs": [
    {
     "name": "stdout",
     "output_type": "stream",
     "text": [
      "Train on 60000 samples, validate on 10000 samples\n",
      "Epoch 1/30\n",
      "60000/60000 [==============================] - 8s 138us/step - loss: 0.0283 - accuracy: 0.9923 - val_loss: 0.1133 - val_accuracy: 0.9841\n",
      "Epoch 2/30\n",
      "60000/60000 [==============================] - 7s 123us/step - loss: 0.0264 - accuracy: 0.9939 - val_loss: 0.1164 - val_accuracy: 0.9841\n",
      "Epoch 3/30\n",
      "60000/60000 [==============================] - 7s 122us/step - loss: 0.0234 - accuracy: 0.9937 - val_loss: 0.1183 - val_accuracy: 0.9842\n",
      "Epoch 4/30\n",
      "60000/60000 [==============================] - 7s 122us/step - loss: 0.0223 - accuracy: 0.9941 - val_loss: 0.1183 - val_accuracy: 0.9841\n",
      "Epoch 5/30\n",
      "60000/60000 [==============================] - 7s 122us/step - loss: 0.0204 - accuracy: 0.9949 - val_loss: 0.1201 - val_accuracy: 0.9837\n",
      "Epoch 6/30\n",
      "60000/60000 [==============================] - 7s 122us/step - loss: 0.0210 - accuracy: 0.9948 - val_loss: 0.1201 - val_accuracy: 0.9840\n",
      "Epoch 7/30\n",
      "60000/60000 [==============================] - 7s 123us/step - loss: 0.0205 - accuracy: 0.9947 - val_loss: 0.1199 - val_accuracy: 0.9844\n",
      "Epoch 8/30\n",
      "60000/60000 [==============================] - 7s 123us/step - loss: 0.0215 - accuracy: 0.9949 - val_loss: 0.1220 - val_accuracy: 0.9846\n",
      "Epoch 9/30\n",
      "60000/60000 [==============================] - 7s 124us/step - loss: 0.0211 - accuracy: 0.9951 - val_loss: 0.1240 - val_accuracy: 0.9848\n",
      "Epoch 10/30\n",
      "60000/60000 [==============================] - 8s 127us/step - loss: 0.0196 - accuracy: 0.9953 - val_loss: 0.1221 - val_accuracy: 0.9853\n",
      "Epoch 11/30\n",
      "60000/60000 [==============================] - 8s 133us/step - loss: 0.0193 - accuracy: 0.9952 - val_loss: 0.1237 - val_accuracy: 0.9845\n",
      "Epoch 12/30\n",
      "60000/60000 [==============================] - 7s 123us/step - loss: 0.0198 - accuracy: 0.9952 - val_loss: 0.1300 - val_accuracy: 0.9842\n",
      "Epoch 13/30\n",
      "60000/60000 [==============================] - 7s 122us/step - loss: 0.0195 - accuracy: 0.9954 - val_loss: 0.1268 - val_accuracy: 0.9848\n",
      "Epoch 14/30\n",
      "60000/60000 [==============================] - 7s 122us/step - loss: 0.0202 - accuracy: 0.9953 - val_loss: 0.1314 - val_accuracy: 0.9842\n",
      "Epoch 15/30\n",
      "60000/60000 [==============================] - 7s 122us/step - loss: 0.0194 - accuracy: 0.9954 - val_loss: 0.1296 - val_accuracy: 0.9844\n",
      "Epoch 16/30\n",
      "60000/60000 [==============================] - 7s 123us/step - loss: 0.0182 - accuracy: 0.9957 - val_loss: 0.1264 - val_accuracy: 0.9847\n",
      "Epoch 17/30\n",
      "60000/60000 [==============================] - 7s 122us/step - loss: 0.0170 - accuracy: 0.9958 - val_loss: 0.1266 - val_accuracy: 0.9840\n",
      "Epoch 18/30\n",
      "60000/60000 [==============================] - 7s 123us/step - loss: 0.0195 - accuracy: 0.9956 - val_loss: 0.1293 - val_accuracy: 0.9848\n",
      "Epoch 19/30\n",
      "60000/60000 [==============================] - 7s 122us/step - loss: 0.0186 - accuracy: 0.9953 - val_loss: 0.1293 - val_accuracy: 0.9846\n",
      "Epoch 20/30\n",
      "60000/60000 [==============================] - 7s 123us/step - loss: 0.0169 - accuracy: 0.9958 - val_loss: 0.1317 - val_accuracy: 0.9847\n",
      "Epoch 21/30\n",
      "60000/60000 [==============================] - 7s 123us/step - loss: 0.0177 - accuracy: 0.9958 - val_loss: 0.1327 - val_accuracy: 0.9850\n",
      "Epoch 22/30\n",
      "60000/60000 [==============================] - 7s 122us/step - loss: 0.0179 - accuracy: 0.9957 - val_loss: 0.1348 - val_accuracy: 0.9845\n",
      "Epoch 23/30\n",
      "60000/60000 [==============================] - 7s 122us/step - loss: 0.0185 - accuracy: 0.9955 - val_loss: 0.1336 - val_accuracy: 0.9847\n",
      "Epoch 24/30\n",
      "60000/60000 [==============================] - 8s 125us/step - loss: 0.0186 - accuracy: 0.9960 - val_loss: 0.1370 - val_accuracy: 0.9843\n",
      "Epoch 25/30\n",
      "60000/60000 [==============================] - 7s 124us/step - loss: 0.0186 - accuracy: 0.9961 - val_loss: 0.1374 - val_accuracy: 0.9848\n",
      "Epoch 26/30\n",
      "60000/60000 [==============================] - 7s 123us/step - loss: 0.0144 - accuracy: 0.9960 - val_loss: 0.1390 - val_accuracy: 0.9845\n",
      "Epoch 27/30\n",
      "60000/60000 [==============================] - 7s 122us/step - loss: 0.0160 - accuracy: 0.9960 - val_loss: 0.1398 - val_accuracy: 0.9843\n",
      "Epoch 28/30\n",
      "60000/60000 [==============================] - 7s 123us/step - loss: 0.0159 - accuracy: 0.9959 - val_loss: 0.1359 - val_accuracy: 0.9845\n",
      "Epoch 29/30\n",
      "60000/60000 [==============================] - 7s 123us/step - loss: 0.0152 - accuracy: 0.9962 - val_loss: 0.1366 - val_accuracy: 0.9846\n",
      "Epoch 30/30\n",
      "60000/60000 [==============================] - 7s 123us/step - loss: 0.0142 - accuracy: 0.9963 - val_loss: 0.1399 - val_accuracy: 0.9844\n",
      "\n",
      "Test loos: 0.1399073843725758\n",
      "Test accuracy: 0.9843999743461609\n"
     ]
    }
   ],
   "source": [
    "batch_size = 128\n",
    "ephochs = 35\n",
    "learning_rate = .0001\n",
    "\n",
    "model_2.compile(loss='categorical_crossentropy',\n",
    "                optimizer=RMSprop(lr= .0001),\n",
    "                metrics=['accuracy'])\n",
    "\n",
    "history = model_2.fit(x_train, y_train,\n",
    "                     batch_size=batch_size,\n",
    "                     epochs=epochs,\n",
    "                     verbose=1,\n",
    "                     validation_data=(x_test, y_test))\n",
    "\n",
    "score = model_2.evaluate(x_test, y_test, verbose=0)\n",
    "print('')\n",
    "print('Test loos:', score[0])\n",
    "print('Test accuracy:', score[1])"
   ]
  },
  {
   "cell_type": "code",
   "execution_count": null,
   "id": "06f66c72",
   "metadata": {},
   "outputs": [],
   "source": []
  }
 ],
 "metadata": {
  "kernelspec": {
   "display_name": "Python 3 (ipykernel)",
   "language": "python",
   "name": "python3"
  },
  "language_info": {
   "codemirror_mode": {
    "name": "ipython",
    "version": 3
   },
   "file_extension": ".py",
   "mimetype": "text/x-python",
   "name": "python",
   "nbconvert_exporter": "python",
   "pygments_lexer": "ipython3",
   "version": "3.7.11"
  }
 },
 "nbformat": 4,
 "nbformat_minor": 5
}
